{
 "cells": [
  {
   "cell_type": "markdown",
   "metadata": {
    "pycharm": {
     "name": "#%% md\n"
    }
   },
   "source": [
    "The melody dataset we will use is the KERN Dataset with link https://kern.humdrum.org/cgi-bin/browse?l=essen%2Feuropa%2Fdeutschl\n",
    "\n",
    "It also has folksongs for other countries\n",
    "\n",
    "ESAC is the original site: http://www.esac-data.org/\n",
    "\n",
    "You will notice that the songs are saved in  the **KERN** format, a popular music encoding method used by the Humdrum software package. More details at https://www.humdrum.org/"
   ]
  },
  {
   "cell_type": "code",
   "execution_count": 1,
   "metadata": {
    "pycharm": {
     "name": "#%%\n"
    }
   },
   "outputs": [],
   "source": [
    "\"\"\"\n",
    "Music21 is a package that allows you to manipulate symbolic music data. Also allows you to load files in krn format\n",
    "\"\"\"\n",
    "import os\n",
    "import json\n",
    "import music21 as m21"
   ]
  },
  {
   "cell_type": "code",
   "execution_count": 2,
   "metadata": {
    "pycharm": {
     "name": "#%%\n"
    }
   },
   "outputs": [],
   "source": [
    "# Test folder only has few files in it\n",
    "KERN_DATASET_PATH = \"deutschl/erk/\"\n",
    "SAVE_DIR = \"dataset\"\n",
    "SINGLE_FILE_DATASET = \"file_dataset\"\n",
    "MAPPING_PATH = \"mapping.json\"\n",
    "\n",
    "# When training our model, we need to pass sequences that are fixed in length\n",
    "SEQUENCE_LENGTH = 64\n",
    "\n",
    "ACCEPTABLE_DURATIONS = [\n",
    "    0.25,\n",
    "    0.5,\n",
    "    0.75, # dotted\n",
    "    1, # quarter\n",
    "    1.5,\n",
    "    2,\n",
    "    3,\n",
    "    4 # whole note\n",
    "]"
   ]
  },
  {
   "cell_type": "code",
   "execution_count": 3,
   "metadata": {
    "pycharm": {
     "name": "#%%\n"
    }
   },
   "outputs": [],
   "source": [
    "def load_songs_in_kern(dataset_path):\n",
    "    \n",
    "    songs = []\n",
    "    \n",
    "    # go through all the files in dataset and load them with music21\n",
    "    for path, subdir, files in os.walk(dataset_path):\n",
    "        for file in files:\n",
    "            if file[-3:] == \"krn\":\n",
    "                song = m21.converter.parse( os.path.join(path, file) )\n",
    "                songs.append(song)\n",
    "                \n",
    "    return songs"
   ]
  },
  {
   "cell_type": "code",
   "execution_count": 4,
   "metadata": {
    "pycharm": {
     "name": "#%%\n"
    }
   },
   "outputs": [],
   "source": [
    "def has_acceptable_durations(song, acceptable_durations):\n",
    "    # Depends on whether all the notes and crests are acceptable\n",
    "    \n",
    "    for note in song.flat.notesAndRests:\n",
    "        if note.duration.quarterLength not in acceptable_durations:\n",
    "            return False\n",
    "    return True"
   ]
  },
  {
   "cell_type": "code",
   "execution_count": 5,
   "metadata": {
    "pycharm": {
     "name": "#%%\n"
    }
   },
   "outputs": [],
   "source": [
    "def transpose(song):\n",
    "    \n",
    "    # Get key from the song (usually stored in the first measure of the first part of the score)\n",
    "    parts = song.getElementsByClass(m21.stream.Part)\n",
    "    measures_part0 = parts[0].getElementsByClass(m21.stream.Measure)\n",
    "    key = measures_part0[0][4]\n",
    "    \n",
    "    # In some songs, key is not added, so estimate key using music21\n",
    "    if not isinstance(key, m21.key.Key):\n",
    "        key = song.analyze(\"key\")\n",
    "    \n",
    "    #print(key)\n",
    "    # Get interval for transposition. E.g. Bmaj -> Cmaj\n",
    "    if key.mode == \"major\":\n",
    "        interval = m21.interval.Interval(key.tonic, m21.pitch.Pitch(\"C\"))\n",
    "    elif key.mode == \"minor\":\n",
    "        interval = m21.interval.Interval(key.tonic, m21.pitch.Pitch(\"A\"))\n",
    "    \n",
    "    # Transpose song by calculated interval\n",
    "    transposed_song = song.transpose(interval)\n",
    "    \n",
    "    return transposed_song"
   ]
  },
  {
   "cell_type": "code",
   "execution_count": 6,
   "metadata": {
    "pycharm": {
     "name": "#%%\n"
    }
   },
   "outputs": [],
   "source": [
    "def encode_song(song, time_step=0.25):\n",
    "    # Each item in the list corresponds to 1/16th (0.25 from acceptable durations)\n",
    "    # pitch = 60, duration = 1.0 -> [60, \"_\", \"_\", \"_\"]\n",
    "    \n",
    "    encoded_song = []\n",
    "    \n",
    "    for event in song.flat.notesAndRests:\n",
    "        \n",
    "        # Handle notes\n",
    "        if isinstance(event, m21.note.Note):\n",
    "            symbol = event.pitch.midi # 60\n",
    "        # Handle rests\n",
    "        elif isinstance(event, m21.note.Rest):\n",
    "            symbol = \"r\"\n",
    "        \n",
    "        # Convert the note/rest into time series notation\n",
    "        steps = int(event.duration.quarterLength / time_step)\n",
    "        for step in range(steps):\n",
    "            if step == 0:\n",
    "                encoded_song.append(symbol)\n",
    "            else:\n",
    "                encoded_song.append(\"_\")\n",
    "    \n",
    "    # Cast encoded song to a str\n",
    "    encoded_song = \" \".join( map(str, encoded_song) )\n",
    "    \n",
    "    return encoded_song"
   ]
  },
  {
   "cell_type": "code",
   "execution_count": 7,
   "metadata": {
    "pycharm": {
     "name": "#%%\n"
    }
   },
   "outputs": [],
   "source": [
    "def preprocess(dataset_path):\n",
    "    \n",
    "    # Load fold songs\n",
    "    print(\"Loading songs...\")\n",
    "    songs = load_songs_in_kern(dataset_path)\n",
    "    print(f\"Loaded {len(songs)} songs.\")\n",
    "    \n",
    "    for i, song in enumerate(songs):\n",
    "        \n",
    "        # Filter out songs that have non-acceptable durations (to make it easier for the AI to pick up the different parts)\n",
    "        if not has_acceptable_durations(song, ACCEPTABLE_DURATIONS):\n",
    "            continue\n",
    "        \n",
    "        # Transpose songs to Cmaj/Amin\n",
    "        song = transpose(song)\n",
    "\n",
    "        # Encode songs with music time series representation\n",
    "        encoded_song = encode_song(song)\n",
    "\n",
    "        # Save songs to text file\n",
    "        save_path = os.path.join(SAVE_DIR, str(i))\n",
    "        with open(save_path, \"w\") as fp:\n",
    "            fp.write(encoded_song)\n",
    "            "
   ]
  },
  {
   "cell_type": "code",
   "execution_count": 8,
   "metadata": {
    "pycharm": {
     "name": "#%%\n"
    }
   },
   "outputs": [],
   "source": [
    "def load(file_path):\n",
    "    with open(file_path, \"r\") as fp:\n",
    "        song = fp.read()\n",
    "    \n",
    "    return song\n",
    "\n",
    "# It will be easier to manipulate that file and create sequences for training the model\n",
    "def create_single_file_dataset(dataset_path, file_dataset_path, sequence_length):\n",
    "    new_song_delimiter = \"/ \" * sequence_length\n",
    "    songs = \"\"\n",
    "    \n",
    "    # load encoded songs and add delimiters\n",
    "    for path, _, files in os.walk(dataset_path):\n",
    "        for file in files:\n",
    "            file_path = os.path.join(path, file)\n",
    "            song = load(file_path)\n",
    "            songs = songs + song + \" \" + new_song_delimiter\n",
    "            \n",
    "    songs = songs[:-1] # Just to remove space at end of string\n",
    "            \n",
    "    # save string that contains all dataset\n",
    "    with open(file_dataset_path, \"w\") as fp:\n",
    "        fp.write(songs)\n",
    "        \n",
    "    return songs"
   ]
  },
  {
   "cell_type": "code",
   "execution_count": 9,
   "metadata": {
    "pycharm": {
     "name": "#%%\n"
    }
   },
   "outputs": [],
   "source": [
    "# This will be for the translation later. We know that our model will only take in integers\n",
    "def create_mapping(songs, mapping_path):\n",
    "    mappings = {}\n",
    "    \n",
    "    # Identify the vocabulary\n",
    "    songs = songs.split()\n",
    "    vocabulary = list(set(songs))\n",
    "    \n",
    "    # Create mappings\n",
    "    for i, symbol in enumerate(vocabulary):\n",
    "        mappings[symbol] = i\n",
    "    \n",
    "    # Save vocabulary to a json file\n",
    "    with open(mapping_path, \"w\") as fp:\n",
    "        json.dump(mappings, fp, indent=4) # indent will show them on one line each"
   ]
  },
  {
   "cell_type": "code",
   "execution_count": 16,
   "metadata": {
    "scrolled": false,
    "pycharm": {
     "name": "#%%\n"
    }
   },
   "outputs": [],
   "source": [
    "preprocess(KERN_DATASET_PATH)\n",
    "songs = create_single_file_dataset(SAVE_DIR, SINGLE_FILE_DATASET, SEQUENCE_LENGTH)\n",
    "create_mapping(songs, MAPPING_PATH)"
   ]
  },
  {
   "cell_type": "code",
   "execution_count": 19,
   "metadata": {
    "scrolled": true,
    "pycharm": {
     "name": "#%%\n"
    }
   },
   "outputs": [],
   "source": [
    "#songs"
   ]
  },
  {
   "cell_type": "code",
   "execution_count": 12,
   "metadata": {
    "pycharm": {
     "name": "#%%\n"
    }
   },
   "outputs": [],
   "source": [
    "def convert_song_to_int(songs):\n",
    "    int_songs = []\n",
    "    \n",
    "    # Load mappings\n",
    "    with open(MAPPING_PATH, \"r\") as fp:\n",
    "        mappings = json.load(fp)\n",
    "    \n",
    "    # Cast songs string to a list\n",
    "    songs = songs.split()\n",
    "    \n",
    "    # Map songs to int\n",
    "    for symbol in songs:\n",
    "        int_songs.append(mappings[symbol])\n",
    "        \n",
    "    return int_songs"
   ]
  },
  {
   "cell_type": "code",
   "execution_count": 13,
   "metadata": {
    "pycharm": {
     "name": "#%%\n"
    }
   },
   "outputs": [],
   "source": [
    "import tensorflow.keras as keras\n",
    "import numpy as np"
   ]
  },
  {
   "cell_type": "code",
   "execution_count": 14,
   "metadata": {
    "pycharm": {
     "name": "#%%\n"
    }
   },
   "outputs": [],
   "source": [
    "def generate_training_sequences(sequence_length):\n",
    "    \"\"\"\n",
    "    In order to train our network, we will create sequences that are subsets on our series and each sequence will have \n",
    "    a target which will be the value that comes after the said sequence\n",
    "    [11, 12, 13, 14, ...] -> i: [11, 12], t: 13; i: [12, 13], t: 14; etc\n",
    "    \n",
    "    We will give our LSTM 4 bars of 4/4 ?\n",
    "    \"\"\"\n",
    "    \n",
    "    # Load songs and map them to int\n",
    "    songs = load(SINGLE_FILE_DATASET)\n",
    "    int_songs = convert_song_to_int(songs)\n",
    "    \n",
    "    # Generate the training sequences\n",
    "    # E.g. 100 symbols, 64 sl, 100 - 64 = 36 sequences\n",
    "    inputs = []\n",
    "    targets = []\n",
    "    \n",
    "    num_sequences= len(int_songs) - sequence_length\n",
    "    for i in range(num_sequences):\n",
    "        inputs.append(int_songs[ i : i + sequence_length ])\n",
    "        targets.append(int_songs[ i + sequence_length ])\n",
    "    \n",
    "    # One-hot encoding\n",
    "    # inputs: (# of sequences, sequence length) -> (# of sequences, sequence length, vocabulary size)\n",
    "    # [ [0, 1, 2], [1, 1, 2] ] => [ [ [1, 0, 0], [0, 1, 0], [0, 0, 1] ], [...] ]\n",
    "    vocabulary_size = len(set(int_songs))\n",
    "    inputs = keras.utils.to_categorical(inputs, num_classes=vocabulary_size)\n",
    "    targets = np.array(targets)\n",
    "    \n",
    "    return inputs, targets"
   ]
  },
  {
   "cell_type": "code",
   "execution_count": 15,
   "metadata": {
    "pycharm": {
     "name": "#%%\n"
    }
   },
   "outputs": [],
   "source": [
    "inputs, targets = generate_training_sequences(SEQUENCE_LENGTH)"
   ]
  },
  {
   "cell_type": "code",
   "execution_count": null,
   "metadata": {
    "pycharm": {
     "name": "#%%\n"
    }
   },
   "outputs": [],
   "source": []
  }
 ],
 "metadata": {
  "kernelspec": {
   "display_name": "Python 3",
   "language": "python",
   "name": "python3"
  },
  "language_info": {
   "codemirror_mode": {
    "name": "ipython",
    "version": 3
   },
   "file_extension": ".py",
   "mimetype": "text/x-python",
   "name": "python",
   "nbconvert_exporter": "python",
   "pygments_lexer": "ipython3",
   "version": "3.7.6"
  }
 },
 "nbformat": 4,
 "nbformat_minor": 4
}