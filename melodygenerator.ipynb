{
 "cells": [
  {
   "cell_type": "code",
   "execution_count": 1,
   "metadata": {
    "pycharm": {
     "name": "#%%\n"
    }
   },
   "outputs": [],
   "source": [
    "import json\n",
    "import numpy as np\n",
    "import music21 as m21\n",
    "import tensorflow.keras as keras\n",
    "# from ipynb.fs.full.preprocess import SEQUENCE_LENGTH, MAPPING_PATH\n",
    "SEQUENCE_LENGTH = 64\n",
    "MAPPING_PATH = \"mapping.json\""
   ]
  },
  {
   "cell_type": "code",
   "execution_count": 20,
   "metadata": {
    "pycharm": {
     "name": "#%%\n"
    }
   },
   "outputs": [],
   "source": [
    "class MelodyGenerator:\n",
    "    def __init__(self, model_path=\"model.h5\"):\n",
    "        self.model_path = model_path\n",
    "        self.model = keras.models.load_model(model_path)\n",
    "        \n",
    "        with open(MAPPING_PATH, \"r\") as fp:\n",
    "            self._mappings = json.load(fp)\n",
    "        \n",
    "        self._start_symbols = [\"/\"] * SEQUENCE_LENGTH\n",
    "        \n",
    "    def generate_melody(self, seed, num_steps, max_sequence_length, temperature):\n",
    "        # Seed is a piece of melody that we want to input into the network so it can generate from that; E.g. \"64 _ 63 _ _ \"\n",
    "        # Num_steps how many we want the network to generate\n",
    "        # Max_sequence_length tells us how many steps we want to consider into the network\n",
    "        # Temperature tells how we sample output symbols\n",
    "        \n",
    "        # Create seed with start symbols\n",
    "        seed = seed.split()\n",
    "        melody = seed\n",
    "        # First part of melody is already given\n",
    "        seed = self._start_symbols + seed\n",
    "        \n",
    "        # Map seed to integers\n",
    "        seed = [ self._mappings[symbol] for symbol in seed ]\n",
    "        \n",
    "        # We now have all we need to start generating symbols\n",
    "        for _ in range(num_steps):\n",
    "            \n",
    "            # Limit the seed to max_sequence_length\n",
    "            seed = seed[-max_sequence_length:]\n",
    "            \n",
    "            # One-hot encode the seed\n",
    "            onehot_seed = keras.utils.to_categorical(seed, num_classes=len(self._mappings))\n",
    "            # ( max_sequence_length, num of symbols in the vocabulary )\n",
    "            \n",
    "            # Prepare input for keras by adding extra dimension\n",
    "            onehot_seed = onehot_seed[ np.newaxis, ... ] # Now ( 1, max_sequence_length, num of symbols in the vocabulary )\n",
    "            \n",
    "            # Make a prediction\n",
    "            probabilities = self.model.predict(onehot_seed)[0]\n",
    "            # [ 0.2, 0.4, 0.1, 0.3 ] -> 1\n",
    "        \n",
    "            output_int = self._sample_with_temperature(probabilities, temperature)\n",
    "            \n",
    "            # Update seed\n",
    "            seed.append(output_int)\n",
    "            \n",
    "            # Map int to encoding\n",
    "            output_symbol = [key for key, value in self._mappings.items() if value == output_int][0]\n",
    "            \n",
    "            # Check whether we are at the end of a melody\n",
    "            if output_symbol == \"/\":\n",
    "                break\n",
    "                \n",
    "            # Update the melody\n",
    "            melody.append(output_symbol)\n",
    "        \n",
    "        return melody\n",
    "\n",
    "            \n",
    "    def _sample_with_temperature(self, probabilities, temperature):\n",
    "        # temperature -> infinity => all probs tend to get remodeled and values tend to become the same\n",
    "        # temperature -> 0 => probs remodeled so that highest value becomes 1\n",
    "        # temperature -> 1 => probs do not change\n",
    "        # Decides how explorative you want to be. Closer to 0 => more deterministic; -> infinity => more unpredictable\n",
    "        predictions = np.log(probabilities) / temperature\n",
    "        probabilities = np.exp(predictions) / np.sum(np.exp(predictions))\n",
    "        \n",
    "        choices = range(len(probabilities)) # [0, 1, 2, 3]\n",
    "        index = np.random.choice(choices, p=probabilities)\n",
    "        \n",
    "        return index\n",
    "    \n",
    "    \n",
    "    def save_melody(self, melody, step_duration=0.25, format=\"midi\", file_name=\"mel.midi\"):\n",
    "        \n",
    "        # Create a music21 stream\n",
    "        stream = m21.stream.Stream()\n",
    "        \n",
    "        # Parse all the symbols in the melody and create note/rest objects\n",
    "        # 60 _ _ _ r _ 62 _\n",
    "        start_symbol = None\n",
    "        step_counter = 1\n",
    "        \n",
    "        for i, symbol in enumerate(melody):\n",
    "            \n",
    "            # Handle case in which we have a note/rest\n",
    "            if symbol != \"_\" or i + 1 == len(melody): # To also consider case where last symbol is _\n",
    "                \n",
    "                # Ensure we are dealing with note/rest beyond the first one\n",
    "                if start_symbol is not None:\n",
    "                    quarter_length_duration = step_duration * step_counter\n",
    "                    \n",
    "                    # Handle rest\n",
    "                    if start_symbol == \"r\":\n",
    "                        m21_event = m21.note.Rest(quarterLength=quarter_length_duration)\n",
    "                    \n",
    "                    # Handle note\n",
    "                    else:\n",
    "                        m21_event = m21.note.Note(int(start_symbol), quarterLength=quarter_length_duration)\n",
    "                    \n",
    "                    stream.append(m21_event)\n",
    "                    \n",
    "                    # Reset step counter\n",
    "                    step_counter = 1\n",
    "                    \n",
    "                start_symbol = symbol\n",
    "            \n",
    "            # Handle case in which we have a prolongation sign \"_\"\n",
    "            else:\n",
    "                step_counter += 1\n",
    "        \n",
    "        # Write the m21 stream to a midi file\n",
    "        stream.write(format, file_name)\n",
    "        \n",
    "        "
   ]
  },
  {
   "cell_type": "code",
   "execution_count": 21,
   "metadata": {
    "pycharm": {
     "name": "#%%\n"
    }
   },
   "outputs": [
    {
     "name": "stdout",
     "output_type": "stream",
     "text": [
      "['67', '_', '67', '_', '67', '_', '_', '65', '64', '_', '64', '_', '64', '_', '_', '_', '67', '_', '_', '_', '67', '_', '67', '_', '64', '_', '_', '_', '67', '_', '_', '_', '67', '_', '_', '_', '65', '_', '_', '_', '64', '_', '_', '_', 'r', '_', '_', '_', '60', '_', '64', '_', '67', '_', '_', '_', '64', '_', '_', '_', '69', '_', '67', '_', '65', '_', '64', '_', '62', '_', '_', '_', '62', '_', '_', '_', '60', '_', '_', '_', 'r', '_', '_', '_']\n"
     ]
    }
   ],
   "source": [
    "mg = MelodyGenerator()\n",
    "\n",
    "# I just picked a random piece from one of the files in the dataset folder\n",
    "seed = \"67 _ 67 _ 67 _ _ 65 64 _ 64 _ 64 _ _\"\n",
    "seed2 = \"67 _ _ _ _ _ 65 _ 64 _ 62 _ 60 _ _ _\"\n",
    "\n",
    "melody = mg.generate_melody(seed, 500, SEQUENCE_LENGTH, 0.3)\n",
    "print(melody)"
   ]
  },
  {
   "cell_type": "code",
   "execution_count": 22,
   "metadata": {
    "pycharm": {
     "name": "#%%\n"
    }
   },
   "outputs": [],
   "source": [
    "mg.save_melody(melody)"
   ]
  }
 ],
 "metadata": {
  "kernelspec": {
   "display_name": "Python 3",
   "language": "python",
   "name": "python3"
  },
  "language_info": {
   "codemirror_mode": {
    "name": "ipython",
    "version": 3
   },
   "file_extension": ".py",
   "mimetype": "text/x-python",
   "name": "python",
   "nbconvert_exporter": "python",
   "pygments_lexer": "ipython3",
   "version": "3.7.6"
  }
 },
 "nbformat": 4,
 "nbformat_minor": 4
}